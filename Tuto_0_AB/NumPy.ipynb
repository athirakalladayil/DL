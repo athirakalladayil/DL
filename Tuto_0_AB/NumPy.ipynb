{
  "nbformat": 4,
  "nbformat_minor": 0,
  "metadata": {
    "colab": {
      "provenance": [],
      "toc_visible": true
    },
    "kernelspec": {
      "name": "python3",
      "display_name": "Python 3"
    },
    "language_info": {
      "name": "python"
    }
  },
  "cells": [
    {
      "cell_type": "markdown",
      "metadata": {
        "id": "view-in-github"
      },
      "source": [
        "<a href=\"https://colab.research.google.com/github/Rohith-Rongali/EE5179-2023/blob/main/Tutorials/Tutorial-1/NumPy.ipynb\" target=\"_parent\"><img src=\"https://colab.research.google.com/assets/colab-badge.svg\" alt=\"Open In Colab\"/></a>"
      ]
    },
    {
      "cell_type": "code",
      "metadata": {
        "id": "alrXoCflGKM8",
        "outputId": "f1f6fd7d-cce1-4ca8-ee4a-cc316ecbbd78",
        "colab": {
          "base_uri": "https://localhost:8080/"
        }
      },
      "source": [
        "import numpy as np\n",
        "print(np.__version__)\n",
        "import matplotlib.pylab as plt"
      ],
      "execution_count": 3,
      "outputs": [
        {
          "output_type": "stream",
          "name": "stdout",
          "text": [
            "1.26.4\n"
          ]
        }
      ]
    },
    {
      "cell_type": "markdown",
      "metadata": {
        "id": "C6DUK8dwjExh"
      },
      "source": [
        "# Numpy Basics:\n"
      ]
    },
    {
      "cell_type": "markdown",
      "metadata": {
        "id": "9x-UquUqkMWs"
      },
      "source": [
        "**Exercise #1:** Creating a numpy array with particular value\n",
        "\n",
        "**Your Task** Create a numpy array with size 2*3 with all elements as 5."
      ]
    },
    {
      "cell_type": "code",
      "metadata": {
        "id": "jyhhYUA4kpqj",
        "colab": {
          "base_uri": "https://localhost:8080/"
        },
        "outputId": "215519c3-0b34-4427-f030-6f45f4fb97a5"
      },
      "source": [
        "# YOUR CODE STARTS HERE\n",
        "arr = np.ones((2,3))*5\n",
        "print(arr)"
      ],
      "execution_count": 4,
      "outputs": [
        {
          "output_type": "stream",
          "name": "stdout",
          "text": [
            "[[5. 5. 5.]\n",
            " [5. 5. 5.]]\n"
          ]
        }
      ]
    },
    {
      "cell_type": "code",
      "source": [
        "# np.array([[1,1], [1,1]])\n",
        "# np.ones((2,3))*5\n",
        "# np.zeros\n",
        "# np.random.rand(2,3) # this produce output btw 0 to 1, how to get values from -10 to 10?\n",
        "# var1 = torch.rand(2,3)\n",
        "# var2 = np.random.rand(2,3)\n",
        "# var1\n",
        "# var1.min()\n",
        "# var1.max()\n",
        "# var1.mean()\n",
        "# var2.argmax()\n",
        "# var1 + var2 = error so, do var1.numpy() +var2"
      ],
      "metadata": {
        "id": "a3mp0mZivnwE"
      },
      "execution_count": null,
      "outputs": []
    },
    {
      "cell_type": "markdown",
      "metadata": {
        "id": "5NaczYqflEd5"
      },
      "source": [
        "**Exercise #2:** Creating a numpy array with *random* value\n",
        "\n",
        "**Your Task** Create a numpy array with size 2*3 with all random values"
      ]
    },
    {
      "cell_type": "code",
      "metadata": {
        "id": "9H2HQNC9lL-0",
        "colab": {
          "base_uri": "https://localhost:8080/"
        },
        "outputId": "b1701332-56cb-4aa8-f8f7-9a1970b78fb2"
      },
      "source": [
        "# YOUR CODE STARTS HERE\n",
        "rand_arr = np.random.rand((2*3))\n",
        "print(rand_arr)"
      ],
      "execution_count": 5,
      "outputs": [
        {
          "output_type": "stream",
          "name": "stdout",
          "text": [
            "[0.17193487 0.99629581 0.69553257 0.98273517 0.73090877 0.45953489]\n"
          ]
        }
      ]
    },
    {
      "cell_type": "markdown",
      "metadata": {
        "id": "uT4LJPBFldNc"
      },
      "source": [
        "**Exercise #3:** Basic NumPy operatrions\n",
        "\n",
        "**Your Task** For the random array `arr`defined above, find the `sum` of all the elements, `mean`, `maximum` and `minimum` value"
      ]
    },
    {
      "cell_type": "code",
      "metadata": {
        "id": "UDrDaAK4l5gq",
        "colab": {
          "base_uri": "https://localhost:8080/"
        },
        "outputId": "3ad36c9a-ee2d-4d35-ceda-a651ad867037"
      },
      "source": [
        "#YOUR CODE STARTS HERE\n",
        "arr_sum = np.sum(rand_arr)\n",
        "arr_mean = np.mean(rand_arr)\n",
        "arr_max = np.max(rand_arr)\n",
        "arr_min = np.min(rand_arr)\n",
        "\n",
        "#YOUR CODE ENDS HERE\n",
        "\n",
        "print(f'sum: {arr_sum}\\nmean: {arr_mean}\\nmax: {arr_max}\\nmin:{arr_min}')"
      ],
      "execution_count": 6,
      "outputs": [
        {
          "output_type": "stream",
          "name": "stdout",
          "text": [
            "sum: 4.036942082949944\n",
            "mean: 0.6728236804916573\n",
            "max: 0.996295811951924\n",
            "min:0.1719348651443069\n"
          ]
        }
      ]
    },
    {
      "cell_type": "markdown",
      "metadata": {
        "id": "JzoFSwHjl3dW"
      },
      "source": [
        "**Exercise #4:** `argmin` and `argmax`\n",
        "\n",
        "**Your Task** For the random array `arr`defined below:\n",
        "\n",
        "*   Find the position of maximum and minimum value of above array\n",
        "*   Find the indices of maximum and minimum value along each of its columns.\n",
        "*   Find the indices of maximum and minimum value along each of the its rows.\n",
        "\n"
      ]
    },
    {
      "cell_type": "code",
      "metadata": {
        "id": "VBawwx5KmpZR",
        "colab": {
          "base_uri": "https://localhost:8080/"
        },
        "outputId": "f2f78a3a-fb57-4283-a3e1-3e74e48f1546"
      },
      "source": [
        "# Define an array\n",
        "arr = np.array([[5,12,51,25] ,[25,29,2,27]])\n",
        "print(f'Array:\\n{arr}\\n')\n",
        "# YOUR CODE STARTS HERE\n",
        "#Find the position of maximum and minimum value of above array\n",
        "max_pos = np.argmax(arr)\n",
        "min_pos = np.argmin(arr)\n",
        "\n",
        "#Find the indices of maximum and minimum value along each of its columns.\n",
        "max_col_ind = np.argmax(arr, axis = 0)\n",
        "min_col_ind = np.argmin(arr, axis = 0)\n",
        "\n",
        "#Find the indices of maximum and minimum value along each of the its rows.\n",
        "max_row_ind = np.argmax(arr, axis = 1)\n",
        "min_row_ind = np.argmin(arr, axis = 1)\n",
        "\n",
        "print(f'position of maximum value: {max_pos}\\nposition of minimum value: {min_pos}\\nmaximum column indices: {max_col_ind}\\\n",
        "      \\nminimum column indices:{min_col_ind}\\nmaximum row indices :{max_row_ind}\\nminimum row indices :{min_row_ind}')\n",
        "\n",
        "#YOUR CODE ENDS HERE"
      ],
      "execution_count": 8,
      "outputs": [
        {
          "output_type": "stream",
          "name": "stdout",
          "text": [
            "Array:\n",
            "[[ 5 12 51 25]\n",
            " [25 29  2 27]]\n",
            "\n",
            "position of maximum value: 2\n",
            "position of minimum value: 6\n",
            "maximum column indices: [1 1 0 1]      \n",
            "minimum column indices:[0 0 1 0]\n",
            "maximum row indices :[2 1]\n",
            "minimum row indices :[0 2]\n"
          ]
        }
      ]
    },
    {
      "cell_type": "code",
      "source": [
        "# Maximum Column Indices: [1, 1, 0, 1]\n",
        "\n",
        "# For each column, this array indicates the index of the maximum value in that column.\n",
        "# Column 0: The maximum value is 25, which is at index 1 (second row).\n",
        "# Column 1: The maximum value is 29, which is at index 1 (second row).\n",
        "# Column 2: The maximum value is 51, which is at index 0 (first row).\n",
        "# Column 3: The maximum value is 27, which is at index 1 (second row).\n",
        "\n",
        "\n",
        "# Minimum Row Indices: [0, 2]\n",
        "\n",
        "# For each row, this array indicates the index of the minimum value in that row.\n",
        "# Row 0: The minimum value is 5, which is at column index 0.\n",
        "# Row 1: The minimum value is 2, which is at column index 2."
      ],
      "metadata": {
        "id": "FkkelFIw91s3"
      },
      "execution_count": null,
      "outputs": []
    },
    {
      "cell_type": "markdown",
      "source": [
        "Numpy Arrays vs. Python Lists?\n",
        "\n",
        "    Why the need for numpy arrays? Can't we just use Python lists?\n",
        "    Iterating over numpy arrays is slow. Slicing is faster\n",
        "\n",
        "Python lists may contain items of different types. This flexibility comes at a price: Python lists store pointers to memory locations. On the other hand, numpy arrays are typed, where the default type is floating point. Because of this, the system knows how much memory to allocate, and if you ask for an array of size 100, it will allocate one hundred contiguous spots in memory, where the size of each spot is based on the type. This makes access extremely fast.\n",
        "\n",
        "\n",
        "If you want to know more, we will suggest that you read this from [Jake Vanderplas's Data Science Handbook](https://jakevdp.github.io/PythonDataScienceHandbook/). You will find that book an incredible resource for learning numpy, pandas and plotting. All the lessons are available as colab notebooks so that u can try out the commands on your own."
      ],
      "metadata": {
        "id": "c6EJuS1SbEuX"
      }
    }
  ]
}